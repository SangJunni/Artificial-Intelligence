{
 "cells": [
  {
   "cell_type": "code",
   "execution_count": 1,
   "metadata": {},
   "outputs": [],
   "source": [
    "import numpy as np\n",
    "import pandas as pd\n",
    "import torch\n",
    "import random\n",
    "\n",
    "random.seed(777)\n",
    "torch.manual_seed(777)\n",
    "torch.cuda.manual_seed_all(777)\n",
    "device = 'cuda' if torch.cuda.is_available() else 'cpu'"
   ]
  },
  {
   "cell_type": "code",
   "execution_count": 2,
   "metadata": {},
   "outputs": [],
   "source": [
    "train = pd.read_csv('train.csv')\n",
    "test = pd.read_csv('test.csv')\n",
    "label = pd.read_csv('test_label.csv')\n",
    "submit = pd.read_csv('sample_submit.csv')"
   ]
  },
  {
   "cell_type": "code",
   "execution_count": 3,
   "metadata": {},
   "outputs": [
    {
     "data": {
      "text/html": [
       "<div>\n",
       "<style scoped>\n",
       "    .dataframe tbody tr th:only-of-type {\n",
       "        vertical-align: middle;\n",
       "    }\n",
       "\n",
       "    .dataframe tbody tr th {\n",
       "        vertical-align: top;\n",
       "    }\n",
       "\n",
       "    .dataframe thead th {\n",
       "        text-align: right;\n",
       "    }\n",
       "</style>\n",
       "<table border=\"1\" class=\"dataframe\">\n",
       "  <thead>\n",
       "    <tr style=\"text-align: right;\">\n",
       "      <th></th>\n",
       "      <th>배출년도</th>\n",
       "      <th>배출월</th>\n",
       "      <th>배출일</th>\n",
       "      <th>시군구명</th>\n",
       "      <th>배출량비율(%)</th>\n",
       "      <th>배출횟수</th>\n",
       "      <th>배출횟수비율(%)</th>\n",
       "      <th>세대수</th>\n",
       "      <th>남성인구</th>\n",
       "      <th>여성인구</th>\n",
       "      <th>외국인인구</th>\n",
       "      <th>배출량(kg)</th>\n",
       "    </tr>\n",
       "  </thead>\n",
       "  <tbody>\n",
       "    <tr>\n",
       "      <th>0</th>\n",
       "      <td>2018</td>\n",
       "      <td>4</td>\n",
       "      <td>1</td>\n",
       "      <td>화성시</td>\n",
       "      <td>4.50</td>\n",
       "      <td>48118</td>\n",
       "      <td>4.21</td>\n",
       "      <td>283903.0</td>\n",
       "      <td>373610</td>\n",
       "      <td>348610</td>\n",
       "      <td>37023</td>\n",
       "      <td>102691.10</td>\n",
       "    </tr>\n",
       "    <tr>\n",
       "      <th>1</th>\n",
       "      <td>2018</td>\n",
       "      <td>4</td>\n",
       "      <td>1</td>\n",
       "      <td>포천시</td>\n",
       "      <td>4.20</td>\n",
       "      <td>3881</td>\n",
       "      <td>3.77</td>\n",
       "      <td>69028.0</td>\n",
       "      <td>80120</td>\n",
       "      <td>72190</td>\n",
       "      <td>12189</td>\n",
       "      <td>8113.30</td>\n",
       "    </tr>\n",
       "    <tr>\n",
       "      <th>2</th>\n",
       "      <td>2018</td>\n",
       "      <td>4</td>\n",
       "      <td>1</td>\n",
       "      <td>평택시</td>\n",
       "      <td>4.25</td>\n",
       "      <td>4326</td>\n",
       "      <td>3.88</td>\n",
       "      <td>208004.0</td>\n",
       "      <td>249525</td>\n",
       "      <td>237215</td>\n",
       "      <td>21774</td>\n",
       "      <td>9130.35</td>\n",
       "    </tr>\n",
       "    <tr>\n",
       "      <th>3</th>\n",
       "      <td>2018</td>\n",
       "      <td>4</td>\n",
       "      <td>1</td>\n",
       "      <td>파주시</td>\n",
       "      <td>3.94</td>\n",
       "      <td>14968</td>\n",
       "      <td>3.66</td>\n",
       "      <td>182723.0</td>\n",
       "      <td>224181</td>\n",
       "      <td>217436</td>\n",
       "      <td>10667</td>\n",
       "      <td>29605.85</td>\n",
       "    </tr>\n",
       "    <tr>\n",
       "      <th>4</th>\n",
       "      <td>2018</td>\n",
       "      <td>4</td>\n",
       "      <td>1</td>\n",
       "      <td>이천시</td>\n",
       "      <td>4.38</td>\n",
       "      <td>7491</td>\n",
       "      <td>3.98</td>\n",
       "      <td>87948.0</td>\n",
       "      <td>109076</td>\n",
       "      <td>104172</td>\n",
       "      <td>6854</td>\n",
       "      <td>18488.45</td>\n",
       "    </tr>\n",
       "    <tr>\n",
       "      <th>...</th>\n",
       "      <td>...</td>\n",
       "      <td>...</td>\n",
       "      <td>...</td>\n",
       "      <td>...</td>\n",
       "      <td>...</td>\n",
       "      <td>...</td>\n",
       "      <td>...</td>\n",
       "      <td>...</td>\n",
       "      <td>...</td>\n",
       "      <td>...</td>\n",
       "      <td>...</td>\n",
       "      <td>...</td>\n",
       "    </tr>\n",
       "    <tr>\n",
       "      <th>17011</th>\n",
       "      <td>2019</td>\n",
       "      <td>12</td>\n",
       "      <td>31</td>\n",
       "      <td>남양주시</td>\n",
       "      <td>2.83</td>\n",
       "      <td>8274</td>\n",
       "      <td>2.87</td>\n",
       "      <td>276656.0</td>\n",
       "      <td>349664</td>\n",
       "      <td>352166</td>\n",
       "      <td>7477</td>\n",
       "      <td>15732.85</td>\n",
       "    </tr>\n",
       "    <tr>\n",
       "      <th>17012</th>\n",
       "      <td>2019</td>\n",
       "      <td>12</td>\n",
       "      <td>31</td>\n",
       "      <td>군포시</td>\n",
       "      <td>2.82</td>\n",
       "      <td>3334</td>\n",
       "      <td>2.92</td>\n",
       "      <td>110005.0</td>\n",
       "      <td>136878</td>\n",
       "      <td>138974</td>\n",
       "      <td>7010</td>\n",
       "      <td>5522.85</td>\n",
       "    </tr>\n",
       "    <tr>\n",
       "      <th>17013</th>\n",
       "      <td>2019</td>\n",
       "      <td>12</td>\n",
       "      <td>31</td>\n",
       "      <td>구리시</td>\n",
       "      <td>3.41</td>\n",
       "      <td>5831</td>\n",
       "      <td>3.01</td>\n",
       "      <td>79870.0</td>\n",
       "      <td>98968</td>\n",
       "      <td>100297</td>\n",
       "      <td>1490</td>\n",
       "      <td>24028.00</td>\n",
       "    </tr>\n",
       "    <tr>\n",
       "      <th>17014</th>\n",
       "      <td>2019</td>\n",
       "      <td>12</td>\n",
       "      <td>31</td>\n",
       "      <td>과천시</td>\n",
       "      <td>3.02</td>\n",
       "      <td>175</td>\n",
       "      <td>3.16</td>\n",
       "      <td>21467.0</td>\n",
       "      <td>28638</td>\n",
       "      <td>29651</td>\n",
       "      <td>173</td>\n",
       "      <td>227.70</td>\n",
       "    </tr>\n",
       "    <tr>\n",
       "      <th>17015</th>\n",
       "      <td>2019</td>\n",
       "      <td>12</td>\n",
       "      <td>31</td>\n",
       "      <td>고양시</td>\n",
       "      <td>17.85</td>\n",
       "      <td>358</td>\n",
       "      <td>17.10</td>\n",
       "      <td>434028.0</td>\n",
       "      <td>522749</td>\n",
       "      <td>543602</td>\n",
       "      <td>12508</td>\n",
       "      <td>577.70</td>\n",
       "    </tr>\n",
       "  </tbody>\n",
       "</table>\n",
       "<p>17016 rows × 12 columns</p>\n",
       "</div>"
      ],
      "text/plain": [
       "       배출년도  배출월  배출일  시군구명  배출량비율(%)   배출횟수  배출횟수비율(%)       세대수    남성인구  \\\n",
       "0      2018    4    1   화성시      4.50  48118       4.21  283903.0  373610   \n",
       "1      2018    4    1   포천시      4.20   3881       3.77   69028.0   80120   \n",
       "2      2018    4    1   평택시      4.25   4326       3.88  208004.0  249525   \n",
       "3      2018    4    1   파주시      3.94  14968       3.66  182723.0  224181   \n",
       "4      2018    4    1   이천시      4.38   7491       3.98   87948.0  109076   \n",
       "...     ...  ...  ...   ...       ...    ...        ...       ...     ...   \n",
       "17011  2019   12   31  남양주시      2.83   8274       2.87  276656.0  349664   \n",
       "17012  2019   12   31   군포시      2.82   3334       2.92  110005.0  136878   \n",
       "17013  2019   12   31   구리시      3.41   5831       3.01   79870.0   98968   \n",
       "17014  2019   12   31   과천시      3.02    175       3.16   21467.0   28638   \n",
       "17015  2019   12   31   고양시     17.85    358      17.10  434028.0  522749   \n",
       "\n",
       "         여성인구  외국인인구    배출량(kg)  \n",
       "0      348610  37023  102691.10  \n",
       "1       72190  12189    8113.30  \n",
       "2      237215  21774    9130.35  \n",
       "3      217436  10667   29605.85  \n",
       "4      104172   6854   18488.45  \n",
       "...       ...    ...        ...  \n",
       "17011  352166   7477   15732.85  \n",
       "17012  138974   7010    5522.85  \n",
       "17013  100297   1490   24028.00  \n",
       "17014   29651    173     227.70  \n",
       "17015  543602  12508     577.70  \n",
       "\n",
       "[17016 rows x 12 columns]"
      ]
     },
     "execution_count": 3,
     "metadata": {},
     "output_type": "execute_result"
    }
   ],
   "source": [
    "train"
   ]
  },
  {
   "cell_type": "code",
   "execution_count": 4,
   "metadata": {},
   "outputs": [],
   "source": [
    "from sklearn.preprocessing import LabelEncoder\n",
    "classle = LabelEncoder()\n",
    "if test['시군구명'].dtype == 'object' and train['시군구명'].dtype == 'object':\n",
    "    classle.fit(pd.concat([train['시군구명'], test['시군구명']]))\n",
    "    train['시군구명'] = classle.transform(train['시군구명'])\n",
    "    test['시군구명'] = classle.transform(test['시군구명'])"
   ]
  },
  {
   "cell_type": "markdown",
   "metadata": {},
   "source": [
    "수정 및추가된 부분\n",
    "====\n",
    "\n",
    "일자별 음식물쓰레기 배출량에 있어서 중요한 것은 주기성에 관한 feature들을 남기는 것이 더 효과적인 예측을 할 수 있다고 생각하였습니다. 그래서 배출년도에 관한 데이터는 오히려 정확한 예측을 방해한다고 판단하였기 때문에 train 및 test에서 제거하였습니다."
   ]
  },
  {
   "cell_type": "code",
   "execution_count": 5,
   "metadata": {},
   "outputs": [],
   "source": [
    "train_y = train['배출량(kg)']\n",
    "train_x = train.drop(['배출량(kg)','배출년도'], axis =1)\n",
    "test_x = test.drop(['배출년도'], axis =1)"
   ]
  },
  {
   "cell_type": "code",
   "execution_count": 6,
   "metadata": {},
   "outputs": [
    {
     "data": {
      "text/plain": [
       "array([27, 25, 24, 23, 22, 21, 20, 19, 18, 17, 16, 15, 12, 10, 13, 11,  8,\n",
       "        9,  7,  6,  5,  4,  3,  2,  0, 14,  1, 26])"
      ]
     },
     "execution_count": 6,
     "metadata": {},
     "output_type": "execute_result"
    }
   ],
   "source": [
    "train.시군구명.unique()"
   ]
  },
  {
   "cell_type": "markdown",
   "metadata": {},
   "source": [
    "추가된 부분\n",
    "====\n",
    "각 시군별 데이터 중에서 특정 날의 데이터셋으로는 알 수 없는 요인들로 인해서 특정 날의 배출과 관련된 데이터가 변할 수 있다고 생각했기 때문에 각 시군별 데이터 중 너무 많이 배출되었거나 너무 적게 배출된 경우의 데이터를 제거하여 학습을 진행할 경우 더욱 정확한 예측이 가능하다고 판단하였기 때문에 다음과 같은 코드를 작성하였습니다.\n",
    "\n",
    "어느 정도까지 outlier로 보고 제거를 할 것인지 직접 범위를 바꾸면서 예측결과를 보면서 진행하였습니다.  \n",
    "1. 25/75\n",
    "2. 10/90\n",
    "3. 5/95\n",
    "\n",
    "이렇게 세가지 경우로 진행한 결과 2번째 경우에서 가장 높은 성능 개선이 나타나 2번 값을 가지고 이상치 제거를 진행 한 후 학습을 하였습니다."
   ]
  },
  {
   "cell_type": "code",
   "execution_count": 7,
   "metadata": {},
   "outputs": [],
   "source": [
    "def outlier_iqr(data):\n",
    "  q1, q3 = np.percentile(data, [10, 90])\n",
    "  iqr = q3-q1\n",
    "  lower = q1- (iqr*1.5)\n",
    "  upper = q3 + (iqr*1.5)  \n",
    "  return np.where((data > upper) | (data < lower))"
   ]
  },
  {
   "cell_type": "code",
   "execution_count": 8,
   "metadata": {},
   "outputs": [],
   "source": [
    "outlier0 = outlier_iqr(train_x.loc[train_x['시군구명']==0]['배출량비율(%)'])[0]"
   ]
  },
  {
   "cell_type": "code",
   "execution_count": 9,
   "metadata": {},
   "outputs": [],
   "source": [
    "for i in range (1,28):\n",
    "    outlier1 = outlier_iqr(train_x.loc[train_x['시군구명']==i]['배출량비율(%)'])[0]\n",
    "    outlier0 = np.concatenate([outlier0, outlier1], axis=0)"
   ]
  },
  {
   "cell_type": "code",
   "execution_count": 10,
   "metadata": {},
   "outputs": [],
   "source": [
    "outlier2 = outlier_iqr(train_x.loc[train_x['시군구명']==0]['배출횟수비율(%)'])[0]"
   ]
  },
  {
   "cell_type": "code",
   "execution_count": 11,
   "metadata": {},
   "outputs": [],
   "source": [
    "for i in range (1,28):\n",
    "    outlier3 = outlier_iqr(train_x.loc[train_x['시군구명']==i]['배출횟수비율(%)'])[0]\n",
    "    outlier2 = np.concatenate([outlier2, outlier3], axis=0)"
   ]
  },
  {
   "cell_type": "code",
   "execution_count": 12,
   "metadata": {},
   "outputs": [],
   "source": [
    "outlier4 = outlier_iqr(train_x.loc[train_x['시군구명']==0]['배출횟수'])[0]"
   ]
  },
  {
   "cell_type": "code",
   "execution_count": 13,
   "metadata": {},
   "outputs": [],
   "source": [
    "for i in range (1,28):\n",
    "    outlier5 = outlier_iqr(train_x.loc[train_x['시군구명']==i]['배출횟수'])[0]\n",
    "    outlier4 = np.concatenate([outlier4, outlier5], axis=0)"
   ]
  },
  {
   "cell_type": "code",
   "execution_count": 14,
   "metadata": {},
   "outputs": [],
   "source": [
    "outlier_index = set(np.concatenate([outlier0, outlier2, outlier4], axis=0))"
   ]
  },
  {
   "cell_type": "code",
   "execution_count": 15,
   "metadata": {},
   "outputs": [],
   "source": [
    "for i in outlier_index:\n",
    "  train_x = train_x.drop(index=i, axis = 0)\n",
    "  train_y= train_y.drop(index=i, axis = 0)"
   ]
  },
  {
   "cell_type": "code",
   "execution_count": 16,
   "metadata": {},
   "outputs": [],
   "source": [
    "from sklearn.preprocessing import StandardScaler\n",
    "\n",
    "sc = StandardScaler()\n",
    "train_x_sc = sc.fit_transform(train_x)\n",
    "test_x_sc= sc.transform(test_x)"
   ]
  },
  {
   "cell_type": "code",
   "execution_count": 17,
   "metadata": {},
   "outputs": [],
   "source": [
    "train_x_tensor = torch.FloatTensor(np.array(train_x_sc)).to(device)\n",
    "test_x_tensor = torch.FloatTensor(np.array(test_x_sc)).to(device)\n",
    "train_y_tensor = torch.FloatTensor(np.array(train_y.values).reshape(-1,1)).to(device)\n",
    "\n",
    "#train_x_tensor = torch.FloatTensor(np.array(train_x)).to(device)\n",
    "#test_x_tensor = torch.FloatTensor(np.array(test)).to(device)\n",
    "#train_y_tensor = torch.FloatTensor(np.array(train_y.values).reshape(-1,1)).to(device)"
   ]
  },
  {
   "cell_type": "code",
   "execution_count": 18,
   "metadata": {},
   "outputs": [],
   "source": [
    "class NN(torch.nn.Module):\n",
    "    def __init__(self):\n",
    "        super(NN, self).__init__()\n",
    "        self.linear1 = torch.nn.Linear(10, 56, bias = True)\n",
    "        self.linear2 = torch.nn.Linear(56, 56, bias = True)\n",
    "        self.linear3 = torch.nn.Linear(56, 56, bias = True)\n",
    "        self.linear4 = torch.nn.Linear(56, 56, bias = True)\n",
    "        self.linear5 = torch.nn.Linear(56, 56, bias = True)\n",
    "        self.linear6 = torch.nn.Linear(56, 56, bias = True)\n",
    "        self.linear7 = torch.nn.Linear(56, 1, bias = True)\n",
    "        self.relu = torch.nn.ReLU()\n",
    "        self.sigmoid = torch.nn.Sigmoid()\n",
    "    \n",
    "    def forward(self, x):\n",
    "        out = self.linear1(x)\n",
    "        out = self.relu(out)\n",
    "        out = self.linear2(out)\n",
    "        out = self.relu(out)\n",
    "        out = self.linear3(out)\n",
    "        out = self.relu(out)\n",
    "        out = self.linear4(out)\n",
    "        out = self.relu(out)\n",
    "        out = self.linear5(out)\n",
    "        out = self.relu(out)\n",
    "        out = self.linear6(out)\n",
    "        out = self.relu(out)\n",
    "        out = self.linear7(out)\n",
    "        return out\n",
    "    \n",
    "model = NN().to(device)"
   ]
  },
  {
   "cell_type": "code",
   "execution_count": 19,
   "metadata": {},
   "outputs": [],
   "source": [
    "loss = torch.nn.MSELoss().to(device) #회귀 이므로 mseloss 사용\n",
    "optimizer = torch.optim.Adam(model.parameters(), lr = 0.001)"
   ]
  },
  {
   "cell_type": "code",
   "execution_count": 20,
   "metadata": {},
   "outputs": [],
   "source": [
    "from sklearn.metrics import mean_squared_error\n",
    "from sklearn.metrics import mean_absolute_error"
   ]
  },
  {
   "cell_type": "code",
   "execution_count": 21,
   "metadata": {},
   "outputs": [
    {
     "name": "stdout",
     "output_type": "stream",
     "text": [
      "train_acc: 0.993187643  val_acc: 0.987498059 train_rmse: 1290.353835903  val_rmse: 1971.287116375\n",
      "train_acc: 0.997285212  val_acc: 0.992448728 train_rmse: 723.796098453  val_rmse: 1413.000001221\n",
      "train_acc: 0.998344891  val_acc: 0.993853318 train_rmse: 599.186779755  val_rmse: 1267.825769741\n",
      "train_acc: 0.998691648  val_acc: 0.993421230 train_rmse: 552.010905380  val_rmse: 1310.843645533\n",
      "train_acc: 0.998877684  val_acc: 0.994644118 train_rmse: 508.370121208  val_rmse: 1165.956021744\n"
     ]
    }
   ],
   "source": [
    "from sklearn.metrics import r2_score\n",
    "\n",
    "model.train()\n",
    "train_epoch = 5000\n",
    "for epoch in range(1,train_epoch + 1):\n",
    "    optimizer.zero_grad()\n",
    "    hypothesis = model(train_x_tensor)\n",
    "    \n",
    "    cost = loss(hypothesis, train_y_tensor)\n",
    "    cost.backward()\n",
    "    optimizer.step()\n",
    "    if epoch % 1000 == 0:\n",
    "        model.eval()\n",
    "        with torch.no_grad():\n",
    "            test_prediction = model(test_x_tensor)\n",
    "            train_prediction = model(train_x_tensor)\n",
    "            accuracy = r2_score(train_y, train_prediction.detach().cpu())\n",
    "            accuracy2 = r2_score(label['배출량(kg)'], test_prediction.detach().cpu())\n",
    "            RMSE_train = mean_absolute_error(train_y, train_prediction.detach().cpu())\n",
    "            RMSE_test = mean_absolute_error(label['배출량(kg)'], test_prediction.detach().cpu())\n",
    "            print('train_acc:', '{:.9f}'.format(accuracy), ' val_acc:','{:.9f}'.format(accuracy2), 'train_rmse:', '{:.9f}'.format(RMSE_train), ' val_rmse:','{:.9f}'.format(RMSE_test))"
   ]
  },
  {
   "cell_type": "code",
   "execution_count": 22,
   "metadata": {},
   "outputs": [],
   "source": [
    "model.eval()\n",
    "with torch.no_grad():\n",
    "    prediction = model(test_x_tensor)"
   ]
  },
  {
   "cell_type": "code",
   "execution_count": 23,
   "metadata": {},
   "outputs": [],
   "source": [
    "submit['배출량(kg)'] = prediction.detach().cpu().numpy()"
   ]
  },
  {
   "cell_type": "code",
   "execution_count": 24,
   "metadata": {},
   "outputs": [
    {
     "data": {
      "text/html": [
       "<div>\n",
       "<style scoped>\n",
       "    .dataframe tbody tr th:only-of-type {\n",
       "        vertical-align: middle;\n",
       "    }\n",
       "\n",
       "    .dataframe tbody tr th {\n",
       "        vertical-align: top;\n",
       "    }\n",
       "\n",
       "    .dataframe thead th {\n",
       "        text-align: right;\n",
       "    }\n",
       "</style>\n",
       "<table border=\"1\" class=\"dataframe\">\n",
       "  <thead>\n",
       "    <tr style=\"text-align: right;\">\n",
       "      <th></th>\n",
       "      <th>Unnamed: 0</th>\n",
       "      <th>배출량(kg)</th>\n",
       "    </tr>\n",
       "  </thead>\n",
       "  <tbody>\n",
       "    <tr>\n",
       "      <th>0</th>\n",
       "      <td>0</td>\n",
       "      <td>94268.000000</td>\n",
       "    </tr>\n",
       "    <tr>\n",
       "      <th>1</th>\n",
       "      <td>1</td>\n",
       "      <td>2277.103027</td>\n",
       "    </tr>\n",
       "    <tr>\n",
       "      <th>2</th>\n",
       "      <td>2</td>\n",
       "      <td>6252.050293</td>\n",
       "    </tr>\n",
       "    <tr>\n",
       "      <th>3</th>\n",
       "      <td>3</td>\n",
       "      <td>7408.812988</td>\n",
       "    </tr>\n",
       "    <tr>\n",
       "      <th>4</th>\n",
       "      <td>4</td>\n",
       "      <td>25426.091797</td>\n",
       "    </tr>\n",
       "    <tr>\n",
       "      <th>...</th>\n",
       "      <td>...</td>\n",
       "      <td>...</td>\n",
       "    </tr>\n",
       "    <tr>\n",
       "      <th>7445</th>\n",
       "      <td>7445</td>\n",
       "      <td>21827.689453</td>\n",
       "    </tr>\n",
       "    <tr>\n",
       "      <th>7446</th>\n",
       "      <td>7446</td>\n",
       "      <td>7387.768555</td>\n",
       "    </tr>\n",
       "    <tr>\n",
       "      <th>7447</th>\n",
       "      <td>7447</td>\n",
       "      <td>24365.363281</td>\n",
       "    </tr>\n",
       "    <tr>\n",
       "      <th>7448</th>\n",
       "      <td>7448</td>\n",
       "      <td>402.174866</td>\n",
       "    </tr>\n",
       "    <tr>\n",
       "      <th>7449</th>\n",
       "      <td>7449</td>\n",
       "      <td>874.815857</td>\n",
       "    </tr>\n",
       "  </tbody>\n",
       "</table>\n",
       "<p>7450 rows × 2 columns</p>\n",
       "</div>"
      ],
      "text/plain": [
       "      Unnamed: 0       배출량(kg)\n",
       "0              0  94268.000000\n",
       "1              1   2277.103027\n",
       "2              2   6252.050293\n",
       "3              3   7408.812988\n",
       "4              4  25426.091797\n",
       "...          ...           ...\n",
       "7445        7445  21827.689453\n",
       "7446        7446   7387.768555\n",
       "7447        7447  24365.363281\n",
       "7448        7448    402.174866\n",
       "7449        7449    874.815857\n",
       "\n",
       "[7450 rows x 2 columns]"
      ]
     },
     "execution_count": 24,
     "metadata": {},
     "output_type": "execute_result"
    }
   ],
   "source": [
    "submit"
   ]
  },
  {
   "cell_type": "code",
   "execution_count": 25,
   "metadata": {},
   "outputs": [],
   "source": [
    "submit.to_csv('Baseline_DNN2.csv', index= False) #2429"
   ]
  },
  {
   "cell_type": "code",
   "execution_count": null,
   "metadata": {},
   "outputs": [],
   "source": []
  }
 ],
 "metadata": {
  "kernelspec": {
   "display_name": "Python 3",
   "language": "python",
   "name": "python3"
  },
  "language_info": {
   "codemirror_mode": {
    "name": "ipython",
    "version": 3
   },
   "file_extension": ".py",
   "mimetype": "text/x-python",
   "name": "python",
   "nbconvert_exporter": "python",
   "pygments_lexer": "ipython3",
   "version": "3.8.3"
  }
 },
 "nbformat": 4,
 "nbformat_minor": 4
}
