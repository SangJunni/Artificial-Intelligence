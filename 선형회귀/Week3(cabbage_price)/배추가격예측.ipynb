{
 "cells": [
  {
   "cell_type": "code",
   "execution_count": 1,
   "metadata": {},
   "outputs": [],
   "source": [
    "import torch\n",
    "import torch.optim as optim\n",
    "\n",
    "import numpy as np\n",
    "import pandas as pd"
   ]
  },
  {
   "cell_type": "code",
   "execution_count": 2,
   "metadata": {},
   "outputs": [
    {
     "data": {
      "text/plain": [
       "<torch._C.Generator at 0x2012da9b050>"
      ]
     },
     "execution_count": 2,
     "metadata": {},
     "output_type": "execute_result"
    }
   ],
   "source": [
    "torch.manual_seed(42) #Seed 고정"
   ]
  },
  {
   "cell_type": "code",
   "execution_count": 3,
   "metadata": {},
   "outputs": [],
   "source": [
    "train = pd.read_csv(\"train.csv\")\n",
    "test = pd.read_csv('test.csv')\n",
    "submit = pd.read_csv('submit_sample.csv')"
   ]
  },
  {
   "cell_type": "code",
   "execution_count": 46,
   "metadata": {},
   "outputs": [],
   "source": [
    "train_x = train.drop(['year', 'avgPrice'], axis=1)\n",
    "train_y = pd.DataFrame(train.avgPrice)\n",
    "\n",
    "test_x = test.drop(['year'], axis =1)"
   ]
  },
  {
   "cell_type": "code",
   "execution_count": 47,
   "metadata": {},
   "outputs": [],
   "source": [
    "train_x = torch.FloatTensor(train_x.values) #2557,4\n",
    "train_y = torch.FloatTensor(train_y.values) #2557\n",
    "\n",
    "test_x = torch.FloatTensor(test_x.values)"
   ]
  },
  {
   "cell_type": "code",
   "execution_count": 48,
   "metadata": {},
   "outputs": [],
   "source": [
    "W = torch.zeros((4,1), requires_grad = True)\n",
    "b = torch.zeros(1, requires_grad = True)"
   ]
  },
  {
   "cell_type": "code",
   "execution_count": 58,
   "metadata": {},
   "outputs": [
    {
     "name": "stdout",
     "output_type": "stream",
     "text": [
      "Epoch 100000/1000000 Cost: 1329.290894\n",
      "Epoch 200000/1000000 Cost: 1329.290649\n",
      "Epoch 300000/1000000 Cost: 1329.290649\n",
      "Epoch 400000/1000000 Cost: 1329.290649\n",
      "Epoch 500000/1000000 Cost: 1329.290649\n",
      "Epoch 600000/1000000 Cost: 1329.290649\n",
      "Epoch 700000/1000000 Cost: 1329.290649\n",
      "Epoch 800000/1000000 Cost: 1329.290649\n",
      "Epoch 900000/1000000 Cost: 1329.290649\n",
      "Epoch 1000000/1000000 Cost: 1329.290649\n"
     ]
    }
   ],
   "source": [
    "optimizer = optim.SGD([W,b], lr=0.1)\n",
    "total_epoch= 1000000\n",
    "for epoch in range(1,total_epoch+1):\n",
    "    hypothesis = train_x.matmul(W)+b\n",
    "    cost = torch.mean((hypothesis - train_y)**2)\n",
    "    cost = torch.sqrt(cost)\n",
    "    \n",
    "    optimizer.zero_grad()\n",
    "    cost.backward()\n",
    "    optimizer.step()\n",
    "    \n",
    "    if epoch % 100000 == 0:\n",
    "        print('Epoch {:4d}/{} Cost: {:.6f}'.format(\n",
    "            epoch, total_epoch, cost.item()\n",
    "        ))"
   ]
  },
  {
   "cell_type": "code",
   "execution_count": 59,
   "metadata": {},
   "outputs": [
    {
     "data": {
      "text/plain": [
       "tensor([[-85.0140],\n",
       "        [ 28.5889],\n",
       "        [ 75.8127],\n",
       "        [  4.0287]], requires_grad=True)"
      ]
     },
     "execution_count": 59,
     "metadata": {},
     "output_type": "execute_result"
    }
   ],
   "source": [
    "W"
   ]
  },
  {
   "cell_type": "code",
   "execution_count": 60,
   "metadata": {},
   "outputs": [],
   "source": [
    "predict = test_x.matmul(W)+b"
   ]
  },
  {
   "cell_type": "code",
   "execution_count": 66,
   "metadata": {},
   "outputs": [
    {
     "data": {
      "text/plain": [
       "0     2993.999512\n",
       "1     2763.032715\n",
       "2     2856.322754\n",
       "3     3117.857666\n",
       "4     3039.327637\n",
       "5     3086.739258\n",
       "6     3155.509277\n",
       "7     3410.398926\n",
       "8     3386.449219\n",
       "9     3385.016113\n",
       "10    3173.149414\n",
       "11    3473.463867\n",
       "12    3391.811523\n",
       "13    3412.833984\n",
       "14    3348.750732\n",
       "15    3436.928711\n",
       "16    3392.511230\n",
       "17    3429.293213\n",
       "18    3394.206543\n",
       "19    3249.389648\n",
       "20    3001.057129\n",
       "21    3018.951416\n",
       "22    2895.101318\n",
       "23    2824.608398\n",
       "Name: Expected, dtype: float32"
      ]
     },
     "execution_count": 66,
     "metadata": {},
     "output_type": "execute_result"
    }
   ],
   "source": [
    "submit.Expected = predict.detach().numpy()"
   ]
  },
  {
   "cell_type": "code",
   "execution_count": 68,
   "metadata": {},
   "outputs": [],
   "source": [
    "submit.to_csv('2021_09_05.csv', index=False)"
   ]
  },
  {
   "cell_type": "code",
   "execution_count": null,
   "metadata": {},
   "outputs": [],
   "source": []
  }
 ],
 "metadata": {
  "kernelspec": {
   "display_name": "Python 3",
   "language": "python",
   "name": "python3"
  },
  "language_info": {
   "codemirror_mode": {
    "name": "ipython",
    "version": 3
   },
   "file_extension": ".py",
   "mimetype": "text/x-python",
   "name": "python",
   "nbconvert_exporter": "python",
   "pygments_lexer": "ipython3",
   "version": "3.8.3"
  }
 },
 "nbformat": 4,
 "nbformat_minor": 4
}
