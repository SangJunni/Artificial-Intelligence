{
 "cells": [
  {
   "cell_type": "code",
   "execution_count": 2,
   "metadata": {},
   "outputs": [],
   "source": [
    "import pandas as pd\n",
    "import numpy as np\n",
    "\n",
    "import torch\n",
    "import torch.optim as optim"
   ]
  },
  {
   "cell_type": "code",
   "execution_count": 3,
   "metadata": {},
   "outputs": [],
   "source": [
    "train = pd.read_csv('train_data.csv')\n",
    "test = pd.read_csv('test_data.csv')\n",
    "submit= pd.read_csv('sample_submit.csv')"
   ]
  },
  {
   "cell_type": "code",
   "execution_count": 4,
   "metadata": {},
   "outputs": [],
   "source": [
    "train.model = train.model.astype('category') #Category형 변경을 통한 데이터 레이블 변경방식\n",
    "test.model= test.model.astype('category')"
   ]
  },
  {
   "cell_type": "code",
   "execution_count": 4,
   "metadata": {},
   "outputs": [],
   "source": [
    "train.model = train.model.cat.codes\n",
    "test.model = test.model.cat.codes"
   ]
  },
  {
   "cell_type": "code",
   "execution_count": 5,
   "metadata": {},
   "outputs": [],
   "source": [
    "train_x = train.drop(['ID', 'price', 'year', 'model'], axis =1)\n",
    "train_y = pd.DataFrame(train.price)\n",
    "\n",
    "test_x = test.drop(['ID', 'year','model'], axis = 1)"
   ]
  },
  {
   "cell_type": "code",
   "execution_count": 6,
   "metadata": {},
   "outputs": [],
   "source": [
    "train_x_tensor = torch.FloatTensor(train_x.values) #17085,9\n",
    "train_y_tensor = torch.FloatTensor(train_y.values) #17085,1\n",
    "\n",
    "test_x_tensor = torch.FloatTensor(test_x.values)"
   ]
  },
  {
   "cell_type": "code",
   "execution_count": 7,
   "metadata": {},
   "outputs": [],
   "source": [
    "W = torch.zeros((7,1), requires_grad = True)\n",
    "b = torch.zeros(1, requires_grad = True)"
   ]
  },
  {
   "cell_type": "code",
   "execution_count": 8,
   "metadata": {},
   "outputs": [
    {
     "name": "stdout",
     "output_type": "stream",
     "text": [
      "Epoch 10000/1000000 Cost: 11957.487305\n",
      "Epoch 20000/1000000 Cost: 11263.403320\n",
      "Epoch 30000/1000000 Cost: 10616.076172\n",
      "Epoch 40000/1000000 Cost: 10033.256836\n",
      "Epoch 50000/1000000 Cost: 9521.316406\n",
      "Epoch 60000/1000000 Cost: 9083.956055\n",
      "Epoch 70000/1000000 Cost: 8720.769531\n",
      "Epoch 80000/1000000 Cost: 8427.052734\n",
      "Epoch 90000/1000000 Cost: 8194.964844\n",
      "Epoch 100000/1000000 Cost: 8007.588379\n",
      "Epoch 110000/1000000 Cost: 7854.074707\n",
      "Epoch 120000/1000000 Cost: 7728.717285\n",
      "Epoch 130000/1000000 Cost: 7628.826172\n",
      "Epoch 140000/1000000 Cost: 7549.205078\n",
      "Epoch 150000/1000000 Cost: 7484.563965\n",
      "Epoch 160000/1000000 Cost: 7431.110352\n",
      "Epoch 170000/1000000 Cost: 7386.238770\n",
      "Epoch 180000/1000000 Cost: 7347.813477\n",
      "Epoch 190000/1000000 Cost: 7315.318848\n",
      "Epoch 200000/1000000 Cost: 7287.578125\n",
      "Epoch 210000/1000000 Cost: 7263.680664\n",
      "Epoch 220000/1000000 Cost: 7242.946777\n",
      "Epoch 230000/1000000 Cost: 7224.577637\n",
      "Epoch 240000/1000000 Cost: 7207.959961\n",
      "Epoch 250000/1000000 Cost: 7192.797852\n",
      "Epoch 260000/1000000 Cost: 7179.145020\n",
      "Epoch 270000/1000000 Cost: 7166.277832\n",
      "Epoch 280000/1000000 Cost: 7154.335938\n",
      "Epoch 290000/1000000 Cost: 7142.744629\n",
      "Epoch 300000/1000000 Cost: 7131.769043\n",
      "Epoch 310000/1000000 Cost: 7121.090820\n",
      "Epoch 320000/1000000 Cost: 7110.562500\n",
      "Epoch 330000/1000000 Cost: 7100.530762\n",
      "Epoch 340000/1000000 Cost: 7090.638672\n",
      "Epoch 350000/1000000 Cost: 7080.806641\n",
      "Epoch 360000/1000000 Cost: 7071.165039\n",
      "Epoch 370000/1000000 Cost: 7061.802246\n",
      "Epoch 380000/1000000 Cost: 7052.525879\n",
      "Epoch 390000/1000000 Cost: 7043.309570\n",
      "Epoch 400000/1000000 Cost: 7034.080078\n",
      "Epoch 410000/1000000 Cost: 7025.042480\n",
      "Epoch 420000/1000000 Cost: 7016.228027\n",
      "Epoch 430000/1000000 Cost: 7007.479492\n",
      "Epoch 440000/1000000 Cost: 6998.842773\n",
      "Epoch 450000/1000000 Cost: 6990.164062\n",
      "Epoch 460000/1000000 Cost: 6981.563965\n",
      "Epoch 470000/1000000 Cost: 6973.008789\n",
      "Epoch 480000/1000000 Cost: 6964.470215\n",
      "Epoch 490000/1000000 Cost: 6956.124512\n",
      "Epoch 500000/1000000 Cost: 6948.230957\n",
      "Epoch 510000/1000000 Cost: 6940.518066\n",
      "Epoch 520000/1000000 Cost: 6932.812988\n",
      "Epoch 530000/1000000 Cost: 6925.218262\n",
      "Epoch 540000/1000000 Cost: 6917.591309\n",
      "Epoch 550000/1000000 Cost: 6910.025879\n",
      "Epoch 560000/1000000 Cost: 6902.483398\n",
      "Epoch 570000/1000000 Cost: 6894.952637\n",
      "Epoch 580000/1000000 Cost: 6887.451660\n",
      "Epoch 590000/1000000 Cost: 6880.020508\n",
      "Epoch 600000/1000000 Cost: 6872.677734\n",
      "Epoch 610000/1000000 Cost: 6865.389648\n",
      "Epoch 620000/1000000 Cost: 6858.175781\n",
      "Epoch 630000/1000000 Cost: 6850.952637\n",
      "Epoch 640000/1000000 Cost: 6843.814941\n",
      "Epoch 650000/1000000 Cost: 6836.701172\n",
      "Epoch 660000/1000000 Cost: 6829.706055\n",
      "Epoch 670000/1000000 Cost: 6823.235352\n",
      "Epoch 680000/1000000 Cost: 6816.670898\n",
      "Epoch 690000/1000000 Cost: 6810.419922\n",
      "Epoch 700000/1000000 Cost: 6804.234863\n",
      "Epoch 710000/1000000 Cost: 6798.093750\n",
      "Epoch 720000/1000000 Cost: 6792.008301\n",
      "Epoch 730000/1000000 Cost: 6785.969238\n",
      "Epoch 740000/1000000 Cost: 6779.954102\n",
      "Epoch 750000/1000000 Cost: 6774.037598\n",
      "Epoch 760000/1000000 Cost: 6768.469727\n",
      "Epoch 770000/1000000 Cost: 6763.197266\n",
      "Epoch 780000/1000000 Cost: 6757.992188\n",
      "Epoch 790000/1000000 Cost: 6752.829590\n",
      "Epoch 800000/1000000 Cost: 6747.704590\n",
      "Epoch 810000/1000000 Cost: 6742.625000\n",
      "Epoch 820000/1000000 Cost: 6737.551270\n",
      "Epoch 830000/1000000 Cost: 6732.497070\n",
      "Epoch 840000/1000000 Cost: 6727.481445\n",
      "Epoch 850000/1000000 Cost: 6722.475098\n",
      "Epoch 860000/1000000 Cost: 6717.508789\n",
      "Epoch 870000/1000000 Cost: 6712.664551\n",
      "Epoch 880000/1000000 Cost: 6708.078125\n",
      "Epoch 890000/1000000 Cost: 6703.802246\n",
      "Epoch 900000/1000000 Cost: 6699.552734\n",
      "Epoch 910000/1000000 Cost: 6695.370117\n",
      "Epoch 920000/1000000 Cost: 6691.248047\n",
      "Epoch 930000/1000000 Cost: 6687.176758\n",
      "Epoch 940000/1000000 Cost: 6683.150879\n",
      "Epoch 950000/1000000 Cost: 6679.176270\n",
      "Epoch 960000/1000000 Cost: 6675.191895\n",
      "Epoch 970000/1000000 Cost: 6671.291992\n",
      "Epoch 980000/1000000 Cost: 6667.397949\n",
      "Epoch 990000/1000000 Cost: 6663.580078\n",
      "Epoch 1000000/1000000 Cost: 6659.813965\n"
     ]
    }
   ],
   "source": [
    "optimizer = optim.SGD([W,b], lr=1e-5)\n",
    "total_epoch= 1000000\n",
    "for epoch in range(1,total_epoch+1):\n",
    "    hypothesis = train_x_tensor.matmul(W)+b\n",
    "    cost = torch.abs((hypothesis - train_y_tensor))\n",
    "    cost = torch.mean(cost)\n",
    "    \n",
    "    optimizer.zero_grad()\n",
    "    cost.backward()\n",
    "    optimizer.step()\n",
    "    \n",
    "    if epoch % 10000 == 0:\n",
    "        print('Epoch {:4d}/{} Cost: {:.6f}'.format(\n",
    "            epoch, total_epoch, cost.item()\n",
    "        ))"
   ]
  },
  {
   "cell_type": "code",
   "execution_count": 12,
   "metadata": {},
   "outputs": [],
   "source": [
    "predict = test_x_tensor.matmul(W)+b"
   ]
  },
  {
   "cell_type": "code",
   "execution_count": 13,
   "metadata": {},
   "outputs": [],
   "source": [
    "submit.price = predict.detach().numpy()"
   ]
  },
  {
   "cell_type": "code",
   "execution_count": 14,
   "metadata": {},
   "outputs": [],
   "source": [
    "submit.to_csv('2021_09_15_03.csv', index=False)"
   ]
  },
  {
   "cell_type": "code",
   "execution_count": null,
   "metadata": {},
   "outputs": [],
   "source": []
  }
 ],
 "metadata": {
  "kernelspec": {
   "display_name": "Python 3",
   "language": "python",
   "name": "python3"
  },
  "language_info": {
   "codemirror_mode": {
    "name": "ipython",
    "version": 3
   },
   "file_extension": ".py",
   "mimetype": "text/x-python",
   "name": "python",
   "nbconvert_exporter": "python",
   "pygments_lexer": "ipython3",
   "version": "3.8.3"
  }
 },
 "nbformat": 4,
 "nbformat_minor": 4
}
